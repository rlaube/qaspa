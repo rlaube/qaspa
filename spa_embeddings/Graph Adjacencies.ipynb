{
 "cells": [
  {
   "cell_type": "code",
   "execution_count": null,
   "id": "b3f4d0d5",
   "metadata": {},
   "outputs": [
    {
     "name": "stderr",
     "output_type": "stream",
     "text": [
      "C:\\Users\\ryanl\\AppData\\Local\\Temp\\ipykernel_32804\\624312358.py:12: DeprecationWarning: Please use `coo_matrix` from the `scipy.sparse` namespace, the `scipy.sparse.coo` namespace is deprecated.\n",
      "  adj_concept_pairs = pickle.load(f)\n"
     ]
    },
    {
     "name": "stdout",
     "output_type": "stream",
     "text": [
      "Option 3\n",
      "qm [ True  True  True  True False False False False False False False False\n",
      " False False False False False False False False False False False False\n",
      " False False False False False False False False False False False False\n",
      " False False False False False False False False False False False False\n",
      " False False False False False False False False False False False False\n",
      " False False False False False False False False False False False False\n",
      " False False False False False False False False False False False False\n",
      " False False False False False False False False False False False False\n",
      " False False False False False False False False False False False False\n",
      " False False False False False False False False False False False False\n",
      " False False False False]\n",
      "am [False False False False  True  True  True False False False False False\n",
      " False False False False False False False False False False False False\n",
      " False False False False False False False False False False False False\n",
      " False False False False False False False False False False False False\n",
      " False False False False False False False False False False False False\n",
      " False False False False False False False False False False False False\n",
      " False False False False False False False False False False False False\n",
      " False False False False False False False False False False False False\n",
      " False False False False False False False False False False False False\n",
      " False False False False False False False False False False False False\n",
      " False False False False]\n",
      "[  197  2407 13059 19074]\n",
      "[  751  7116 34041]\n"
     ]
    }
   ],
   "source": [
    "# get concept ids for each triple for the QA graphs in CSQA, OBQA, and MedQA\n",
    "# output files are used in generate_graph_sps.bat to generate graph embeddings\n",
    "\n",
    "import torch\n",
    "import numpy as np\n",
    "import pickle\n",
    "import os\n",
    "\n",
    "\n",
    "graph_path = '../data/'\n",
    "for dataset in ('csqa', 'obqa', 'medqa'):\n",
    "    for split in ('dev', 'test', 'train'):\n",
    "        graph_file = graph_path+dataset+'/graph/'+split+'.graph.adj.pk'\n",
    "        with open(graph_file, 'rb') as f:\n",
    "            adj_concept_pairs = pickle.load(f)\n",
    "\n",
    "        prune = True\n",
    "        max_node_num = 200\n",
    "        rel = []\n",
    "        subjects = []\n",
    "        objects = []\n",
    "        all_concepts = []\n",
    "        for idx, _data in enumerate(adj_concept_pairs):\n",
    "                if dataset == 'medqa':\n",
    "                    adj, concepts, qm, am = _data\n",
    "                else:\n",
    "                    adj, concepts, qm, am, cid2score = _data['adj'], _data['concepts'], _data['qmask'], _data['amask'], _data['cid2score']\n",
    "                    \n",
    "                num_concept = min(len(concepts), max_node_num)\n",
    "\n",
    "                # prune nodes to 200 concepts (they are already sorted from highest relevance to lowest)\n",
    "                concepts = concepts[:num_concept]\n",
    "\n",
    "                ij = torch.tensor(adj.row, dtype=torch.int64) #(num_matrix_entries, ), where each entry is coordinate\n",
    "                k = torch.tensor(adj.col, dtype=torch.int64)  #(num_matrix_entries, ), where each entry is coordinate\n",
    "                n_node = adj.shape[1]\n",
    "                if n_node > 0:\n",
    "                    half_n_rel = adj.shape[0] // n_node\n",
    "                    i, j = ij // n_node, ij % n_node\n",
    "\n",
    "                    if prune:\n",
    "                        # prune edges to the top 200 concepts\n",
    "                        mask = (j < num_concept) & (k < num_concept)\n",
    "                        i, j, k = i[mask], j[mask], k[mask]\n",
    "                else:\n",
    "                    print(idx)\n",
    "                \n",
    "                rel.append(i.numpy())\n",
    "                subjects.append(j.numpy())\n",
    "                objects.append(k.numpy())\n",
    "                all_concepts.append(concepts)\n",
    "                \n",
    "        rel = np.array(rel, dtype=object)\n",
    "        subjects = np.array(subjects, dtype=object)\n",
    "        objects = np.array(objects, dtype=object)\n",
    "        all_concepts = np.array(all_concepts, dtype=object)\n",
    "\n",
    "        output_dir = graph_path+dataset+'/graph/'\n",
    "\n",
    "        np.savez(output_dir+split+'_graph_ids_pruned', rels=rel, subjects=subjects, objects=objects, concept_ids = all_concepts)"
   ]
  },
  {
   "cell_type": "code",
   "execution_count": 1,
   "id": "a27692d4",
   "metadata": {},
   "outputs": [
    {
     "name": "stderr",
     "output_type": "stream",
     "text": [
      "C:\\Users\\ryanl\\AppData\\Local\\Temp\\ipykernel_10884\\1750699269.py:8: DeprecationWarning: Please use `coo_matrix` from the `scipy.sparse` namespace, the `scipy.sparse.coo` namespace is deprecated.\n",
      "  adj_concept_pairs = pickle.load(f)\n"
     ]
    },
    {
     "data": {
      "text/plain": [
       "0.5270681862841423"
      ]
     },
     "execution_count": 1,
     "metadata": {},
     "output_type": "execute_result"
    }
   ],
   "source": [
    "# testing number of concepts in each graph\n",
    "\n",
    "import pickle\n",
    "import numpy as np\n",
    "dataset = 'medqa'\n",
    "split = 'train'\n",
    "with open('C:/Users/ryanl/OneDrive - University of Waterloo/Documents/University/Masters/CNRG/qaspa/data/'+dataset+'/graph/'+split+'.graph.adj.pk', 'rb') as f:\n",
    "    adj_concept_pairs = pickle.load(f)\n",
    "\n",
    "concepts_len = []\n",
    "for idx, _data in enumerate(adj_concept_pairs):\n",
    "        if dataset == 'medqa':\n",
    "             adj, concepts, qm, am = _data\n",
    "        else:\n",
    "            adj, concepts, qm, am, cid2score = _data['adj'], _data['concepts'], _data['qmask'], _data['amask'], _data['cid2score']\n",
    "        \n",
    "        concepts_len.append(concepts.shape)\n",
    "concepts_len = np.array(concepts_len)\n",
    "\n",
    "concepts_len[concepts_len > 200].shape[0] / concepts_len.shape[0]\n",
    "\n",
    "# import numpy as np\n",
    "# graphs = np.load('csqa_dev_graph_ids.npz', allow_pickle=True)\n",
    "\n",
    "# for graph in graphs['concept_ids']:\n",
    "#     print(graph.shape)"
   ]
  },
  {
   "cell_type": "code",
   "execution_count": null,
   "id": "b7a7edc2",
   "metadata": {},
   "outputs": [
    {
     "name": "stdout",
     "output_type": "stream",
     "text": [
      "0\n",
      "0\n"
     ]
    }
   ],
   "source": [
    "# split='train'\n",
    "# dataset='csqa'\n",
    "# graph = np.load('../'+dataset+'/'+split+'_graph_ids_pruned.npz', allow_pickle=True)\n",
    "# total_sub = 0\n",
    "# total_obj = 0\n",
    "# for sub, obj in zip(graph['subjects'], graph['objects']):\n",
    "#     total_sub += np.sum(sub > 200)\n",
    "#     total_obj += np.sum(obj > 200)\n",
    "\n",
    "# print(total_sub)\n",
    "# print(total_obj)"
   ]
  }
 ],
 "metadata": {
  "kernelspec": {
   "display_name": "qaspa",
   "language": "python",
   "name": "qaspa"
  },
  "language_info": {
   "codemirror_mode": {
    "name": "ipython",
    "version": 3
   },
   "file_extension": ".py",
   "mimetype": "text/x-python",
   "name": "python",
   "nbconvert_exporter": "python",
   "pygments_lexer": "ipython3",
   "version": "3.11.7"
  }
 },
 "nbformat": 4,
 "nbformat_minor": 5
}
