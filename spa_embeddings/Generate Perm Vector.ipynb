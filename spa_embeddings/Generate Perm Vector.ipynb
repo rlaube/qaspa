{
 "cells": [
  {
   "cell_type": "code",
   "execution_count": null,
   "metadata": {},
   "outputs": [
    {
     "name": "stdout",
     "output_type": "stream",
     "text": [
      "concept_norms.max 23.602243\n",
      "concept_norms.min 8.318985\n",
      "rel_norms.max 16420959.0\n",
      "rel_norms.min 2501.4182\n"
     ]
    }
   ],
   "source": [
    "# import nengo_spa as spa\n",
    "\n",
    "# pemute_vector = np.load('../perm_vectors/perm_vector_seed0.npy')\n",
    "\n",
    "# concept_sp = np.load('../cpnet/tzw_concept_emb.npy')\n",
    "# rel_sp = np.load('../cpnet/encoder_embs/bert-large-uncased_rel_emb.npy')\n",
    "\n",
    "# # normalize sps\n",
    "# concept_norms = np.linalg.norm(concept_sp, axis=1)[:, np.newaxis]\n",
    "# rel_norms = np.linalg.norm(rel_sp, axis=1)[:, np.newaxis]\n",
    "# print('concept_norms.max',concept_norms.max())\n",
    "# print('concept_norms.min',concept_norms.min())\n",
    "# print('rel_norms.max',rel_norms.max())\n",
    "# print('rel_norms.min',rel_norms.min())\n",
    "# concept_sp = np.divide(concept_sp, concept_norms, out=np.zeros_like(concept_sp), where=concept_norms!=0)\n",
    "# rel_sp = np.divide(rel_sp, rel_norms, out=np.zeros_like(rel_sp), where=rel_norms!=0)\n",
    "\n",
    "# graphs = np.load('../csqa/dev_graph_ids.npz', allow_pickle=True)\n",
    "# concept_ids = graphs['concept_ids']\n",
    "# rels = graphs['rels']\n",
    "# subjects = graphs['subjects']\n",
    "# objects = graphs['objects']\n",
    "\n",
    "# alg = spa.algebras.HrrAlgebra() \n",
    "# for i in range(1):\n",
    "#     for subj, rel, obj in zip(subjects[i], rels[i], objects[i]):\n",
    "#         subj_id = concept_ids[i][subj]\n",
    "#         obj_id = concept_ids[i][obj]\n",
    "\n",
    "#         # do (subj * rel) * perm(obj)\n",
    "#         triple = alg.bind(\n",
    "#                         alg.bind(concept_sp[subj_id], rel_sp[rel]), \n",
    "#                         concept_sp[obj_id][pemute_vector])"
   ]
  }
 ],
 "metadata": {
  "kernelspec": {
   "display_name": "qaspa",
   "language": "python",
   "name": "python3"
  },
  "language_info": {
   "codemirror_mode": {
    "name": "ipython",
    "version": 3
   },
   "file_extension": ".py",
   "mimetype": "text/x-python",
   "name": "python",
   "nbconvert_exporter": "python",
   "pygments_lexer": "ipython3",
   "version": "3.11.7"
  }
 },
 "nbformat": 4,
 "nbformat_minor": 2
}
